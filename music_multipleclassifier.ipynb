{
  "cells": [
    {
      "cell_type": "code",
      "execution_count": null,
      "metadata": {
        "colab": {
          "base_uri": "https://localhost:8080/"
        },
        "id": "d1bz27-uo6x7",
        "outputId": "fe31e06f-674c-4cc3-ba03-e2c1410cd592"
      },
      "outputs": [
        {
          "output_type": "stream",
          "name": "stdout",
          "text": [
            "Collecting pyspark\n",
            "  Downloading pyspark-3.2.1.tar.gz (281.4 MB)\n",
            "\u001b[K     |████████████████████████████████| 281.4 MB 35 kB/s \n",
            "\u001b[?25hCollecting py4j==0.10.9.3\n",
            "  Downloading py4j-0.10.9.3-py2.py3-none-any.whl (198 kB)\n",
            "\u001b[K     |████████████████████████████████| 198 kB 51.2 MB/s \n",
            "\u001b[?25hBuilding wheels for collected packages: pyspark\n",
            "  Building wheel for pyspark (setup.py) ... \u001b[?25l\u001b[?25hdone\n",
            "  Created wheel for pyspark: filename=pyspark-3.2.1-py2.py3-none-any.whl size=281853642 sha256=a83b0561a4c80c37196ba499f747b00246b193426a9e7ac30850da813c73910b\n",
            "  Stored in directory: /root/.cache/pip/wheels/9f/f5/07/7cd8017084dce4e93e84e92efd1e1d5334db05f2e83bcef74f\n",
            "Successfully built pyspark\n",
            "Installing collected packages: py4j, pyspark\n",
            "Successfully installed py4j-0.10.9.3 pyspark-3.2.1\n"
          ]
        }
      ],
      "source": [
        "########## ONLY in Colab ##########\n",
        "!pip3 install pyspark"
      ]
    },
    {
      "cell_type": "code",
      "execution_count": null,
      "metadata": {
        "id": "xExq6PlKpFCS"
      },
      "outputs": [],
      "source": [
        "# linking with SparkSession\n",
        "from pyspark.sql import SparkSession\n",
        "spark = SparkSession.builder.master(\"local[*]\").appName('Music genre classification with multiple classifiers').getOrCreate()"
      ]
    },
    {
      "cell_type": "code",
      "execution_count": null,
      "metadata": {
        "colab": {
          "base_uri": "https://localhost:8080/"
        },
        "id": "DGr_kAc1pLgm",
        "outputId": "ba83944f-02bc-4e37-8957-71c6a0fcb2c1"
      },
      "outputs": [
        {
          "output_type": "stream",
          "name": "stdout",
          "text": [
            "Mounted at /content/drive\n"
          ]
        }
      ],
      "source": [
        "########## ONLY in Colab ##########\n",
        "# mount your Google Drive\n",
        "from google.colab import drive\n",
        "drive.mount('/content/drive')\n",
        "########## ONLY in Colab ##########"
      ]
    },
    {
      "cell_type": "code",
      "execution_count": null,
      "metadata": {
        "id": "94AD_0fipXPb"
      },
      "outputs": [],
      "source": [
        "# Load Data from Colab:\n",
        "\n",
        "########## ONLY in Colab ##########\n",
        "Music_df = spark.read.option(\"header\", \"true\").csv(\"/content/drive/MyDrive/Music_Data\")\n",
        "########## ONLY in Colab ##########"
      ]
    },
    {
      "cell_type": "code",
      "execution_count": null,
      "metadata": {
        "id": "01W47xaypbEj"
      },
      "outputs": [],
      "source": [
        "# Print DF to make sure it is working\n",
        "Music_df.show()"
      ]
    },
    {
      "cell_type": "code",
      "execution_count": null,
      "metadata": {
        "colab": {
          "base_uri": "https://localhost:8080/"
        },
        "id": "qmXejwyypfdp",
        "outputId": "434bd765-d8af-4073-8b0a-7c21c75f07c9"
      },
      "outputs": [
        {
          "output_type": "stream",
          "name": "stdout",
          "text": [
            "+---------+-----+\n",
            "|    label|count|\n",
            "+---------+-----+\n",
            "|     jazz| 1100|\n",
            "|      pop| 1100|\n",
            "|    metal| 1100|\n",
            "|    blues| 1100|\n",
            "|   reggae| 1100|\n",
            "|    disco| 1099|\n",
            "|   hiphop| 1098|\n",
            "|classical| 1098|\n",
            "|     rock| 1098|\n",
            "|  country| 1097|\n",
            "+---------+-----+\n",
            "\n"
          ]
        }
      ],
      "source": [
        "# counting the total number of songs per label\n",
        "df1=Music_df.select('label').groupBy('label').count().orderBy('count', ascending=False)\n",
        "df1.show()"
      ]
    },
    {
      "cell_type": "code",
      "execution_count": null,
      "metadata": {
        "id": "oCSXeT41pjQt"
      },
      "outputs": [],
      "source": [
        "Music_df.na.drop().show()"
      ]
    },
    {
      "cell_type": "code",
      "execution_count": null,
      "metadata": {
        "id": "eGYU5DsapjYE"
      },
      "outputs": [],
      "source": [
        "# Displaying all numeric columns\n",
        "classification_df= Music_df.drop('filename','length')\n",
        "classification_df.show()"
      ]
    },
    {
      "cell_type": "code",
      "execution_count": null,
      "metadata": {
        "colab": {
          "base_uri": "https://localhost:8080/"
        },
        "id": "Mzk3AMlbpqly",
        "outputId": "2a409d94-d409-474d-e3d5-80f0f9ce1718"
      },
      "outputs": [
        {
          "output_type": "stream",
          "name": "stdout",
          "text": [
            "root\n",
            " |-- chroma_stft_mean: string (nullable = true)\n",
            " |-- chroma_stft_var: string (nullable = true)\n",
            " |-- rms_mean: string (nullable = true)\n",
            " |-- rms_var: string (nullable = true)\n",
            " |-- spectral_centroid_mean: string (nullable = true)\n",
            " |-- spectral_centroid_var: string (nullable = true)\n",
            " |-- spectral_bandwidth_mean: string (nullable = true)\n",
            " |-- spectral_bandwidth_var: string (nullable = true)\n",
            " |-- rolloff_mean: string (nullable = true)\n",
            " |-- rolloff_var: string (nullable = true)\n",
            " |-- zero_crossing_rate_mean: string (nullable = true)\n",
            " |-- zero_crossing_rate_var: string (nullable = true)\n",
            " |-- harmony_mean: string (nullable = true)\n",
            " |-- harmony_var: string (nullable = true)\n",
            " |-- perceptr_mean: string (nullable = true)\n",
            " |-- perceptr_var: string (nullable = true)\n",
            " |-- tempo: string (nullable = true)\n",
            " |-- mfcc1_mean: string (nullable = true)\n",
            " |-- mfcc1_var: string (nullable = true)\n",
            " |-- mfcc2_mean: string (nullable = true)\n",
            " |-- mfcc2_var: string (nullable = true)\n",
            " |-- mfcc3_mean: string (nullable = true)\n",
            " |-- mfcc3_var: string (nullable = true)\n",
            " |-- mfcc4_mean: string (nullable = true)\n",
            " |-- mfcc4_var: string (nullable = true)\n",
            " |-- mfcc5_mean: string (nullable = true)\n",
            " |-- mfcc5_var: string (nullable = true)\n",
            " |-- mfcc6_mean: string (nullable = true)\n",
            " |-- mfcc6_var: string (nullable = true)\n",
            " |-- mfcc7_mean: string (nullable = true)\n",
            " |-- mfcc7_var: string (nullable = true)\n",
            " |-- mfcc8_mean: string (nullable = true)\n",
            " |-- mfcc8_var: string (nullable = true)\n",
            " |-- mfcc9_mean: string (nullable = true)\n",
            " |-- mfcc9_var: string (nullable = true)\n",
            " |-- mfcc10_mean: string (nullable = true)\n",
            " |-- mfcc10_var: string (nullable = true)\n",
            " |-- mfcc11_mean: string (nullable = true)\n",
            " |-- mfcc11_var: string (nullable = true)\n",
            " |-- mfcc12_mean: string (nullable = true)\n",
            " |-- mfcc12_var: string (nullable = true)\n",
            " |-- mfcc13_mean: string (nullable = true)\n",
            " |-- mfcc13_var: string (nullable = true)\n",
            " |-- mfcc14_mean: string (nullable = true)\n",
            " |-- mfcc14_var: string (nullable = true)\n",
            " |-- mfcc15_mean: string (nullable = true)\n",
            " |-- mfcc15_var: string (nullable = true)\n",
            " |-- mfcc16_mean: string (nullable = true)\n",
            " |-- mfcc16_var: string (nullable = true)\n",
            " |-- mfcc17_mean: string (nullable = true)\n",
            " |-- mfcc17_var: string (nullable = true)\n",
            " |-- mfcc18_mean: string (nullable = true)\n",
            " |-- mfcc18_var: string (nullable = true)\n",
            " |-- mfcc19_mean: string (nullable = true)\n",
            " |-- mfcc19_var: string (nullable = true)\n",
            " |-- mfcc20_mean: string (nullable = true)\n",
            " |-- mfcc20_var: string (nullable = true)\n",
            " |-- label: string (nullable = true)\n",
            "\n"
          ]
        }
      ],
      "source": [
        "# checking the data types of dataframe\n",
        "classification_df.printSchema()"
      ]
    },
    {
      "cell_type": "code",
      "execution_count": null,
      "metadata": {
        "id": "2UnNbQyjpxuz"
      },
      "outputs": [],
      "source": [
        "#converting the data types from string to float\n",
        "from pyspark.sql.types import FloatType,IntegerType\n",
        "\n",
        "\n",
        "changed_classificationdf = classification_df.withColumn(\"chroma_stft_mean\", classification_df[(\"chroma_stft_mean\")].cast(FloatType()))\\\n",
        ".withColumn(\"chroma_stft_var\", classification_df[\"chroma_stft_var\"].cast(FloatType()))\\\n",
        ".withColumn(\"rms_mean\", classification_df[\"rms_mean\"].cast(FloatType()))\\\n",
        ".withColumn(\"rms_var\", classification_df[\"rms_var\"].cast(FloatType()))\\\n",
        ".withColumn(\"spectral_centroid_mean\", classification_df[\"spectral_centroid_mean\"].cast(FloatType()))\\\n",
        ".withColumn(\"spectral_centroid_var\", classification_df[\"spectral_centroid_var\"].cast(FloatType()))\\\n",
        ".withColumn(\"spectral_bandwidth_mean\", classification_df[\"spectral_bandwidth_mean\"].cast(FloatType()))\\\n",
        ".withColumn(\"spectral_bandwidth_var\", classification_df[\"spectral_bandwidth_var\"].cast(FloatType()))\\\n",
        ".withColumn(\"rolloff_mean\", classification_df[\"rolloff_mean\"].cast(FloatType()))\\\n",
        ".withColumn(\"rolloff_var\", classification_df[\"rolloff_var\"].cast(FloatType()))\\\n",
        ".withColumn(\"zero_crossing_rate_mean\", classification_df[\"zero_crossing_rate_mean\"].cast(FloatType()))\\\n",
        ".withColumn(\"zero_crossing_rate_var\", classification_df[\"zero_crossing_rate_var\"].cast(FloatType()))\\\n",
        ".withColumn(\"harmony_mean\", classification_df[\"harmony_mean\"].cast(FloatType()))\\\n",
        ".withColumn(\"harmony_var\", classification_df[\"harmony_var\"].cast(FloatType()))\\\n",
        ".withColumn(\"perceptr_mean\", classification_df[\"perceptr_mean\"].cast(FloatType()))\\\n",
        ".withColumn(\"perceptr_var\", classification_df[\"perceptr_var\"].cast(FloatType()))\\\n",
        ".withColumn(\"tempo\", classification_df[\"tempo\"].cast(FloatType()))\\\n",
        ".withColumn(\"mfcc1_mean\", classification_df[\"mfcc1_mean\"].cast(FloatType()))\\\n",
        ".withColumn(\"mfcc1_var\", classification_df[\"mfcc1_var\"].cast(FloatType()))\\\n",
        ".withColumn(\"mfcc2_mean\", classification_df[\"mfcc2_mean\"].cast(FloatType()))\\\n",
        ".withColumn(\"mfcc2_var\", classification_df[\"mfcc2_var\"].cast(FloatType()))\\\n",
        ".withColumn(\"mfcc3_mean\", classification_df[\"mfcc3_mean\"].cast(FloatType()))\\\n",
        ".withColumn(\"mfcc3_var\", classification_df[\"mfcc3_var\"].cast(FloatType()))\\\n",
        ".withColumn(\"mfcc4_mean\", classification_df[\"mfcc4_mean\"].cast(FloatType()))\\\n",
        ".withColumn(\"mfcc4_var\", classification_df[\"mfcc4_var\"].cast(FloatType()))\\\n",
        ".withColumn(\"mfcc5_mean\", classification_df[\"mfcc5_mean\"].cast(FloatType()))\\\n",
        ".withColumn(\"mfcc5_var\", classification_df[\"mfcc5_var\"].cast(FloatType()))\\\n",
        ".withColumn(\"mfcc6_mean\", classification_df[\"mfcc6_mean\"].cast(FloatType()))\\\n",
        ".withColumn(\"mfcc6_var\", classification_df[\"mfcc6_var\"].cast(FloatType()))\\\n",
        ".withColumn(\"mfcc7_mean\", classification_df[\"mfcc7_mean\"].cast(FloatType()))\\\n",
        ".withColumn(\"mfcc7_var\", classification_df[\"mfcc7_var\"].cast(FloatType()))\\\n",
        ".withColumn(\"mfcc8_mean\", classification_df[\"mfcc8_mean\"].cast(FloatType()))\\\n",
        ".withColumn(\"mfcc8_var\", classification_df[\"mfcc8_var\"].cast(FloatType()))\\\n",
        ".withColumn(\"mfcc9_mean\", classification_df[\"mfcc9_mean\"].cast(FloatType()))\\\n",
        ".withColumn(\"mfcc9_var\", classification_df[\"mfcc9_var\"].cast(FloatType()))\\\n",
        ".withColumn(\"mfcc10_mean\", classification_df[\"mfcc10_mean\"].cast(FloatType()))\\\n",
        ".withColumn(\"mfcc10_var\", classification_df[\"mfcc10_var\"].cast(FloatType()))\\\n",
        ".withColumn(\"mfcc11_mean\", classification_df[\"mfcc11_mean\"].cast(FloatType()))\\\n",
        ".withColumn(\"mfcc11_var\", classification_df[\"mfcc11_var\"].cast(FloatType()))\\\n",
        ".withColumn(\"mfcc12_mean\", classification_df[\"mfcc12_mean\"].cast(FloatType()))\\\n",
        ".withColumn(\"mfcc12_var\", classification_df[\"mfcc12_var\"].cast(FloatType()))\\\n",
        ".withColumn(\"mfcc13_mean\", classification_df[\"mfcc13_mean\"].cast(FloatType()))\\\n",
        ".withColumn(\"mfcc13_var\", classification_df[\"mfcc13_var\"].cast(FloatType()))\\\n",
        ".withColumn(\"mfcc14_mean\", classification_df[\"mfcc14_mean\"].cast(FloatType()))\\\n",
        ".withColumn(\"mfcc14_var\", classification_df[\"mfcc14_var\"].cast(FloatType()))\\\n",
        ".withColumn(\"mfcc15_mean\", classification_df[\"mfcc15_mean\"].cast(FloatType()))\\\n",
        ".withColumn(\"mfcc15_var\", classification_df[\"mfcc15_var\"].cast(FloatType()))\\\n",
        ".withColumn(\"mfcc16_mean\", classification_df[\"mfcc16_mean\"].cast(FloatType()))\\\n",
        ".withColumn(\"mfcc16_var\", classification_df[\"mfcc16_var\"].cast(FloatType()))\\\n",
        ".withColumn(\"mfcc17_mean\", classification_df[\"mfcc17_mean\"].cast(FloatType()))\\\n",
        ".withColumn(\"mfcc17_var\", classification_df[\"mfcc17_var\"].cast(FloatType()))\\\n",
        ".withColumn(\"mfcc18_mean\", classification_df[\"mfcc18_mean\"].cast(FloatType()))\\\n",
        ".withColumn(\"mfcc18_var\", classification_df[\"mfcc18_var\"].cast(FloatType()))\\\n",
        ".withColumn(\"mfcc19_mean\", classification_df[\"mfcc19_mean\"].cast(FloatType()))\\\n",
        ".withColumn(\"mfcc19_var\", classification_df[\"mfcc19_var\"].cast(FloatType()))\\\n",
        ".withColumn(\"mfcc20_mean\", classification_df[\"mfcc20_mean\"].cast(FloatType()))\\\n",
        ".withColumn(\"mfcc20_var\", classification_df[\"mfcc20_var\"].cast(FloatType()))\\\n",
        "#.withColumn(\"length\", classification_df[\"length\"].cast(FloatType()))\\\n",
        "#.withColumn(\"label\", classification_df[\"label\"].cast(IntegerType()))\\\n"
      ]
    },
    {
      "cell_type": "code",
      "execution_count": null,
      "metadata": {
        "id": "8Alb53TQp3UU"
      },
      "outputs": [],
      "source": [
        "changed_classificationdf.show()"
      ]
    },
    {
      "cell_type": "code",
      "execution_count": null,
      "metadata": {
        "id": "g1v_oidvp7o4"
      },
      "outputs": [],
      "source": [
        "from pyspark.ml.feature import StringIndexer\n",
        "\n",
        "\n",
        "labelIndexer = StringIndexer(inputCol='label',outputCol='MusicGenre')\n",
        "changed_classificationdf=labelIndexer.fit(changed_classificationdf).transform(changed_classificationdf)\n",
        "\n",
        "changed_classificationdf.show()\n"
      ]
    },
    {
      "cell_type": "code",
      "source": [
        ""
      ],
      "metadata": {
        "id": "Et3llPNNJfzf"
      },
      "execution_count": null,
      "outputs": []
    },
    {
      "cell_type": "code",
      "execution_count": null,
      "metadata": {
        "id": "fwkDHb2TqBJ6"
      },
      "outputs": [],
      "source": [
        "from pyspark.ml.linalg import Vectors\n",
        "from pyspark.ml.feature import VectorAssembler\n",
        "#from pyspark.ml.feature import IndexToString, StringIndexer, VectorIndexer"
      ]
    },
    {
      "cell_type": "code",
      "execution_count": null,
      "metadata": {
        "id": "QGbfW34wqFK3"
      },
      "outputs": [],
      "source": [
        "#naive bayes, multilayer \n",
        "feature_col=['chroma_stft_mean','chroma_stft_var','rms_mean','rms_var',\n",
        "             'spectral_centroid_mean','spectral_centroid_var','spectral_bandwidth_mean',\n",
        "             'spectral_bandwidth_var','spectral_bandwidth_mean','rolloff_mean','rolloff_var',\n",
        "             'zero_crossing_rate_mean','zero_crossing_rate_var','harmony_var',\n",
        "             'perceptr_var','tempo','mfcc20_var']"
      ]
    },
    {
      "cell_type": "code",
      "execution_count": null,
      "metadata": {
        "id": "01N7dQRWTloj"
      },
      "outputs": [],
      "source": [
        "#logistic regression, Decision tree\n",
        "feature_col=['chroma_stft_mean','chroma_stft_var','rms_mean','rms_var',\n",
        "             'spectral_centroid_mean','spectral_centroid_var','spectral_bandwidth_mean',\n",
        "             'spectral_bandwidth_var','spectral_bandwidth_mean','rolloff_mean','rolloff_var',\n",
        "             'zero_crossing_rate_mean','zero_crossing_rate_var','harmony_mean','harmony_var',\n",
        "             'perceptr_mean','perceptr_var','tempo','mfcc1_mean','mfcc1_var','mfcc2_mean','mfcc2_var',\n",
        "             'mfcc3_mean','mfcc3_var','mfcc4_mean','mfcc4_var','mfcc5_mean','mfcc5_var','mfcc6_mean',\n",
        "             'mfcc6_var','mfcc7_mean','mfcc7_var','mfcc8_mean','mfcc8_var','mfcc9_mean','mfcc9_var',\n",
        "             'mfcc10_mean','mfcc10_var','mfcc11_mean','mfcc11_var','mfcc12_mean','mfcc12_var',\n",
        "             'mfcc13_mean','mfcc13_var','mfcc14_mean','mfcc14_var','mfcc15_mean','mfcc15_var',\n",
        "             'mfcc16_mean','mfcc16_var','mfcc17_mean','mfcc17_var',\n",
        "             'mfcc18_mean','mfcc18_var','mfcc19_mean','mfcc19_var','mfcc20_mean','mfcc20_var']"
      ]
    },
    {
      "cell_type": "code",
      "execution_count": null,
      "metadata": {
        "id": "otXzv5UuqQxS"
      },
      "outputs": [],
      "source": [
        "assembler=VectorAssembler(inputCols=feature_col,outputCol='Selected_features')"
      ]
    },
    {
      "cell_type": "code",
      "execution_count": null,
      "metadata": {
        "id": "pNyEJ5ZWqUHZ"
      },
      "outputs": [],
      "source": [
        "final_data=assembler.transform(changed_classificationdf)"
      ]
    },
    {
      "cell_type": "code",
      "execution_count": null,
      "metadata": {
        "id": "kMejJ5NwyR_5"
      },
      "outputs": [],
      "source": [
        "from pyspark.ml.feature import StandardScaler\n"
      ]
    },
    {
      "cell_type": "code",
      "execution_count": null,
      "metadata": {
        "id": "8Zm1hsxIyWpp"
      },
      "outputs": [],
      "source": [
        "scaler=StandardScaler(inputCol='Selected_features',outputCol='scaled_features',withStd=True, withMean=False)\n"
      ]
    },
    {
      "cell_type": "code",
      "execution_count": null,
      "metadata": {
        "id": "jC-iDQ9fyahG"
      },
      "outputs": [],
      "source": [
        "scalerModel=scaler.fit(final_data)"
      ]
    },
    {
      "cell_type": "code",
      "execution_count": null,
      "metadata": {
        "id": "3haypbVByeYd"
      },
      "outputs": [],
      "source": [
        "classification_final_data=scalerModel.transform(final_data)"
      ]
    },
    {
      "cell_type": "code",
      "execution_count": null,
      "metadata": {
        "colab": {
          "base_uri": "https://localhost:8080/"
        },
        "id": "TyhSzgyFymXF",
        "outputId": "f87da0dd-6531-4d85-a571-4d98e7245e7b"
      },
      "outputs": [
        {
          "output_type": "stream",
          "name": "stdout",
          "text": [
            "+----------+--------------------+\n",
            "|MusicGenre|     scaled_features|\n",
            "+----------+--------------------+\n",
            "|       0.0|[3.73916526813369...|\n",
            "|       0.0|[3.82454892797013...|\n",
            "|       0.0|[3.86634785969342...|\n",
            "|       0.0|[4.05390498784294...|\n",
            "|       0.0|[3.74109459271712...|\n",
            "+----------+--------------------+\n",
            "only showing top 5 rows\n",
            "\n"
          ]
        }
      ],
      "source": [
        "investigated_data=classification_final_data.select('MusicGenre','scaled_features')\n",
        "investigated_data.show(5)"
      ]
    },
    {
      "cell_type": "code",
      "execution_count": null,
      "metadata": {
        "colab": {
          "base_uri": "https://localhost:8080/"
        },
        "id": "COdugsQiqbx2",
        "outputId": "26a2a054-f429-4391-feb5-cea5d010d8e2"
      },
      "outputs": [
        {
          "output_type": "stream",
          "name": "stdout",
          "text": [
            "Training Dataset Count:8800\n",
            "Test Dataset Count:2190\n"
          ]
        }
      ],
      "source": [
        "# Split the data into training and test sets \n",
        "(train,test) = investigated_data.randomSplit([0.8, 0.2],seed=2018)\n",
        "\n",
        "print(\"Training Dataset Count:\" + str(train.count()))\n",
        "print(\"Test Dataset Count:\" + str(test.count()))"
      ]
    },
    {
      "cell_type": "code",
      "execution_count": null,
      "metadata": {
        "id": "LeBOw2nwBnRX"
      },
      "outputs": [],
      "source": [
        ""
      ]
    },
    {
      "cell_type": "markdown",
      "metadata": {
        "id": "uucRfdKPBmFC"
      },
      "source": [
        "**Naive Bayes**"
      ]
    },
    {
      "cell_type": "code",
      "execution_count": null,
      "metadata": {
        "id": "MEGJ41_AqgLn"
      },
      "outputs": [],
      "source": [
        "from pyspark.ml.classification import NaiveBayes\n",
        "from pyspark.ml.evaluation import MulticlassClassificationEvaluator"
      ]
    },
    {
      "cell_type": "code",
      "execution_count": null,
      "metadata": {
        "id": "FYijPrPyqkMm"
      },
      "outputs": [],
      "source": [
        "nb = NaiveBayes(labelCol=\"MusicGenre\", featuresCol=\"scaled_features\",smoothing=10.0, modelType=\"multinomial\")"
      ]
    },
    {
      "cell_type": "code",
      "execution_count": null,
      "metadata": {
        "id": "15UOe6KNqnz_"
      },
      "outputs": [],
      "source": [
        "# train the model\n",
        "nbmodel = nb.fit(train)\n"
      ]
    },
    {
      "cell_type": "code",
      "execution_count": null,
      "metadata": {
        "colab": {
          "base_uri": "https://localhost:8080/"
        },
        "id": "wf9Kp7Dp20mQ",
        "outputId": "ea3a3f25-8afe-4089-e62d-55844e9ad635"
      },
      "outputs": [
        {
          "output_type": "stream",
          "name": "stdout",
          "text": [
            "+----------+--------------------+--------------------+--------------------+----------+\n",
            "|MusicGenre|     scaled_features|       rawPrediction|         probability|prediction|\n",
            "+----------+--------------------+--------------------+--------------------+----------+\n",
            "|       0.0|[2.22840345022533...|[-88.776548030956...|[0.01138869437389...|       6.0|\n",
            "|       0.0|[2.37979629109323...|[-64.588242845051...|[0.27407851896500...|       0.0|\n",
            "|       0.0|[2.40270880631788...|[-98.785429874095...|[0.10974706900745...|       1.0|\n",
            "|       0.0|[2.40339106359911...|[-80.943394164139...|[0.52755042034461...|       0.0|\n",
            "|       0.0|[2.45101949922130...|[-107.15172599140...|[0.48828608322363...|       0.0|\n",
            "|       0.0|[2.47584572369352...|[-72.583019951188...|[0.45593262168959...|       0.0|\n",
            "|       0.0|[2.53043311713598...|[-83.925558037485...|[0.25480973148476...|       1.0|\n",
            "|       0.0|[2.57172421820217...|[-86.511646079077...|[0.58428546973350...|       0.0|\n",
            "|       0.0|[2.58003423481674...|[-110.69150081579...|[0.37280396470970...|       0.0|\n",
            "|       0.0|[2.58397295411011...|[-106.30874735592...|[0.16990794954453...|       4.0|\n",
            "|       0.0|[2.58785436179841...|[-68.519570681927...|[0.19795322145114...|       1.0|\n",
            "|       0.0|[2.60280704262150...|[-99.759996386598...|[0.23977585327488...|       1.0|\n",
            "|       0.0|[2.60975071734708...|[-68.277659296394...|[0.40828728691565...|       0.0|\n",
            "|       0.0|[2.69674176005500...|[-90.991162894169...|[0.18865417079169...|       1.0|\n",
            "|       0.0|[2.70772000565693...|[-100.40695367639...|[0.05465312874486...|       6.0|\n",
            "|       0.0|[2.72812808680032...|[-110.85694859118...|[0.56474325020355...|       0.0|\n",
            "|       0.0|[2.73702550583671...|[-83.053646823764...|[0.39531482442602...|       0.0|\n",
            "|       0.0|[2.74942939837983...|[-102.04679162781...|[0.08734198039914...|       1.0|\n",
            "|       0.0|[2.75096485103393...|[-124.04125817624...|[0.02383195580042...|       4.0|\n",
            "|       0.0|[2.76291423763075...|[-100.70948194063...|[0.27834000448798...|       1.0|\n",
            "+----------+--------------------+--------------------+--------------------+----------+\n",
            "only showing top 20 rows\n",
            "\n"
          ]
        }
      ],
      "source": [
        "# select example rows to display.\n",
        "nbpredictions = nbmodel.transform(test)\n",
        "nbpredictions.show()\n"
      ]
    },
    {
      "cell_type": "code",
      "execution_count": null,
      "metadata": {
        "colab": {
          "base_uri": "https://localhost:8080/"
        },
        "id": "_yyt5yD73Cff",
        "outputId": "9fc923d6-87a5-4243-8cba-9a5f83f68fb1"
      },
      "outputs": [
        {
          "output_type": "stream",
          "name": "stdout",
          "text": [
            "Test accuracy of naive bayes classifier is  =  0.43561643835616437\n",
            "Test Error of Random Forest classifier is  = 0.564384\n"
          ]
        }
      ],
      "source": [
        "from pyspark.ml.evaluation import MulticlassClassificationEvaluator\n",
        "nbevaluator = MulticlassClassificationEvaluator(labelCol='MusicGenre',predictionCol=\"prediction\", metricName='accuracy')\n",
        "accuracy = nbevaluator.evaluate(nbpredictions)\n",
        "print(\"Test accuracy of naive bayes classifier is  = \" , accuracy)\n",
        "print(\"Test Error of Random Forest classifier is  = %g\" % (1.0 - accuracy))\n",
        "#print(rfModel.toDebugString)"
      ]
    },
    {
      "cell_type": "code",
      "execution_count": null,
      "metadata": {
        "colab": {
          "base_uri": "https://localhost:8080/"
        },
        "id": "sYNKVCSmJvMC",
        "outputId": "d813dc42-25fb-40ed-bee2-5bbb0cd81de8"
      },
      "outputs": [
        {
          "name": "stderr",
          "output_type": "stream",
          "text": [
            "/usr/local/lib/python3.7/dist-packages/pyspark/sql/context.py:127: FutureWarning: Deprecated in 3.0.0. Use SparkSession.builder.getOrCreate() instead.\n",
            "  FutureWarning\n"
          ]
        },
        {
          "name": "stdout",
          "output_type": "stream",
          "text": [
            "Confusion Matrix of Music genre classification \n",
            "\n",
            "[[ 72.  45.  42.   1.  29.   3.  13.   8.   6.  10.]\n",
            " [ 31.  69.  10.   1.  12.   1.  59.   0.   7.   9.]\n",
            " [  5.   1. 164.   0.   0.   5.   1.   2.  11.   0.]\n",
            " [  3.   6.   7. 135.  24.  17.   1.  23.  11.   4.]\n",
            " [ 23.  20.   1.  15.  99.  11.   1.   9.   7.  21.]\n",
            " [  9.  13.  50.  11.  31.  59.   2.  12.  23.  11.]\n",
            " [ 13.  11.   6.   0.   1.   0. 179.   0.   4.   1.]\n",
            " [ 22.   5.  26.  38.  31.  20.   1.  79.  12.   5.]\n",
            " [ 18.  22.  57.   2.  24.  23.   5.   1.  39.   8.]\n",
            " [ 39.  48.  37.   0.  40.   9.   9.   5.  20.  34.]]\n"
          ]
        }
      ],
      "source": [
        "from pyspark.mllib.evaluation import MulticlassMetrics\n",
        "from pyspark.sql.types import FloatType\n",
        "import pyspark.sql.functions as F\n",
        "\n",
        "preds_and_labels = nbpredictions.select(['prediction','MusicGenre']).withColumn('MusicGenre', F.col('MusicGenre').cast(FloatType())).orderBy('prediction')\n",
        "preds_and_labels1 = preds_and_labels.select(['prediction','MusicGenre'])\n",
        "metrics = MulticlassMetrics(preds_and_labels1.rdd.map(tuple))\n",
        "confusion=metrics.confusionMatrix().toArray()\n",
        "print(\"Confusion Matrix of Music genre classification \\n\")\n",
        "print(confusion)"
      ]
    },
    {
      "cell_type": "code",
      "execution_count": null,
      "metadata": {
        "colab": {
          "base_uri": "https://localhost:8080/"
        },
        "id": "zgd4fgpzAj-t",
        "outputId": "d1be82db-d771-42de-bf5a-1f010f802111"
      },
      "outputs": [
        {
          "name": "stdout",
          "output_type": "stream",
          "text": [
            "                         The Music genre classification result NB\n",
            "\n",
            "Accuracy                         F1-Score                     Precision                      Recall\n",
            "0.42811059907834104            0.3143507972665148          0.2875           0.34673366834170855\n"
          ]
        }
      ],
      "source": [
        "acc = metrics.accuracy\n",
        "f1 = metrics.fMeasure(1.0)\n",
        "precision = metrics.precision(1.0)\n",
        "recall = metrics.recall(1.0)\n",
        "print(\"                         The Music genre classification result NB\\n\")\n",
        "print(\"Accuracy                         F1-Score                     Precision                      Recall\")\n",
        "print(acc,\"          \",f1,\"        \",precision,\"         \",recall)"
      ]
    },
    {
      "cell_type": "code",
      "execution_count": null,
      "metadata": {
        "colab": {
          "base_uri": "https://localhost:8080/",
          "height": 675
        },
        "id": "-wtSK2KGKHim",
        "outputId": "de49ca72-69bc-4a4b-a823-e300b43caffd"
      },
      "outputs": [
        {
          "data": {
            "image/png": "[encoded data removed]",
            "text/plain": [
              "<Figure size 720x720 with 2 Axes>"
            ]
          },
          "metadata": {},
          "output_type": "display_data"
        }
      ],
      "source": [
        "# Plotting the confusion matrix\n",
        "\n",
        "import matplotlib.pyplot as plt\n",
        "import seaborn as sns\n",
        "\n",
        "plt.figure(figsize=(10,10))\n",
        "x_axis_labels = ['blues','classical','country','disco','hiphop','jazz','metal','pop','reggae','rock'] # labels for x-axis\n",
        "y_axis_labels = ['blues','classical','country','disco','hiphop','jazz','metal','pop','reggae','rock'] # labels for y-axis\n",
        "plot=sns.heatmap(confusion,xticklabels=x_axis_labels, yticklabels=y_axis_labels, annot=True,cmap=\"YlGnBu\")\n",
        "plot.set_title('Confusion Matrix of Naive Bayes',fontsize=18,color='red')\n",
        "plot.set_xlabel('Prediction Level', fontsize=18,color='red')\n",
        "plot.set_ylabel('Actual Level', fontsize=18,color='red')\n",
        "plt.xticks(fontsize=14,rotation=45)\n",
        "plt.yticks(fontsize=14,rotation=45)\n",
        "plt.show()"
      ]
    },
    {
      "cell_type": "markdown",
      "metadata": {
        "id": "4Vy04zfRA_8d"
      },
      "source": [
        "**Decision Tree**"
      ]
    },
    {
      "cell_type": "code",
      "execution_count": null,
      "metadata": {
        "id": "IiGHwIOHA-8U"
      },
      "outputs": [],
      "source": [
        "from pyspark.ml.classification import DecisionTreeClassifier\n",
        "from pyspark.ml.feature import StringIndexer, VectorIndexer\n",
        "from pyspark.ml.evaluation import MulticlassClassificationEvaluator"
      ]
    },
    {
      "cell_type": "code",
      "execution_count": null,
      "metadata": {
        "id": "VrlA61VsBH3I"
      },
      "outputs": [],
      "source": [
        "dt = DecisionTreeClassifier(labelCol=\"MusicGenre\", featuresCol=\"scaled_features\",impurity='gini', maxDepth=10, maxBins=32)"
      ]
    },
    {
      "cell_type": "code",
      "execution_count": null,
      "metadata": {
        "colab": {
          "base_uri": "https://localhost:8080/"
        },
        "id": "8iamrv31BeXc",
        "outputId": "ea9c4637-ef63-40fb-e28c-d8ef4278ac8d"
      },
      "outputs": [
        {
          "name": "stdout",
          "output_type": "stream",
          "text": [
            "+----------+--------------------+--------------------+--------------------+----------+\n",
            "|MusicGenre|     scaled_features|       rawPrediction|         probability|prediction|\n",
            "+----------+--------------------+--------------------+--------------------+----------+\n",
            "|       0.0|[2.22840345022533...|[0.0,0.0,0.0,0.0,...|[0.0,0.0,0.0,0.0,...|       6.0|\n",
            "|       0.0|[2.37979629109323...|[45.0,40.0,0.0,4....|[0.17241379310344...|       9.0|\n",
            "|       0.0|[2.40270880631788...|[45.0,40.0,0.0,4....|[0.17241379310344...|       9.0|\n",
            "|       0.0|[2.40339106359911...|[19.0,3.0,0.0,0.0...|[0.86363636363636...|       0.0|\n",
            "|       0.0|[2.45101949922130...|[136.0,4.0,0.0,0....|[0.78612716763005...|       0.0|\n",
            "+----------+--------------------+--------------------+--------------------+----------+\n",
            "only showing top 5 rows\n",
            "\n"
          ]
        }
      ],
      "source": [
        "dtModel = dt.fit(train)\n",
        "dtpredictions = dtModel.transform(test)\n",
        "dtpredictions.show(5)"
      ]
    },
    {
      "cell_type": "code",
      "execution_count": null,
      "metadata": {
        "colab": {
          "base_uri": "https://localhost:8080/"
        },
        "id": "56Kd1lKlBv0w",
        "outputId": "d75d4737-aec5-446e-f9a4-9816d33c7eca"
      },
      "outputs": [
        {
          "name": "stdout",
          "output_type": "stream",
          "text": [
            "Test accuracy =  0.6191780821917808\n",
            "Test Error = 0.380822\n"
          ]
        }
      ],
      "source": [
        "dtevaluator = MulticlassClassificationEvaluator(labelCol='MusicGenre',predictionCol=\"prediction\", metricName='accuracy')\n",
        "accuracy = dtevaluator.evaluate(dtpredictions)\n",
        "print(\"Test accuracy = \" , accuracy)\n",
        "print(\"Test Error = %g\" % (1.0 - accuracy))"
      ]
    },
    {
      "cell_type": "code",
      "execution_count": null,
      "metadata": {
        "colab": {
          "base_uri": "https://localhost:8080/"
        },
        "id": "DY3RncSOCQNb",
        "outputId": "e9106f87-49ed-4a44-95a4-807d960f9200"
      },
      "outputs": [
        {
          "name": "stderr",
          "output_type": "stream",
          "text": [
            "/usr/local/lib/python3.7/dist-packages/pyspark/sql/context.py:127: FutureWarning: Deprecated in 3.0.0. Use SparkSession.builder.getOrCreate() instead.\n",
            "  FutureWarning\n"
          ]
        },
        {
          "name": "stdout",
          "output_type": "stream",
          "text": [
            "Confusion Matrix of Music genre classification \n",
            "\n",
            "[[113.   8.  11.   2.   8.   4.   1.  14.  12.  41.]\n",
            " [  8. 145.   2.   6.   1.   4.   9.   1.  13.  26.]\n",
            " [  7.   6. 164.   1.   3.  10.   0.  16.  24.   0.]\n",
            " [  1.   2.   1. 149.   7.  11.   0.  11.   6.   8.]\n",
            " [  9.   0.   1.   8. 121.   8.   0.  17.  14.  41.]\n",
            " [ 11.   4.   4.  13.  12. 102.   1.  22.  16.  16.]\n",
            " [  0.  13.   0.   0.   4.   0. 192.   0.   5.  10.]\n",
            " [  4.   1.  10.  12.  21.  17.   0. 138.   4.   4.]\n",
            " [ 12.  20.  18.  10.  11.  23.   0.  10.  95.  45.]\n",
            " [ 23.  16.   1.  19.  16.   6.   2.   6.   9. 137.]]\n"
          ]
        }
      ],
      "source": [
        "from pyspark.mllib.evaluation import MulticlassMetrics\n",
        "from pyspark.sql.types import FloatType\n",
        "import pyspark.sql.functions as F\n",
        "\n",
        "preds_and_labels = dtpredictions.select(['prediction','MusicGenre']).withColumn('MusicGenre', F.col('MusicGenre').cast(FloatType())).orderBy('prediction')\n",
        "preds_and_labels1 = preds_and_labels.select(['prediction','MusicGenre'])\n",
        "metrics = MulticlassMetrics(preds_and_labels1.rdd.map(tuple))\n",
        "confusion=metrics.confusionMatrix().toArray()\n",
        "print(\"Confusion Matrix of Music genre classification \\n\")\n",
        "print(confusion)"
      ]
    },
    {
      "cell_type": "code",
      "execution_count": null,
      "metadata": {
        "colab": {
          "base_uri": "https://localhost:8080/"
        },
        "id": "tXAvcXT5CxSN",
        "outputId": "3c33c4a1-9a52-413f-b2ed-0c59e7ce0514"
      },
      "outputs": [
        {
          "name": "stdout",
          "output_type": "stream",
          "text": [
            "                         The Music genre classification result DT\n",
            "\n",
            "Accuracy                         F1-Score                     Precision                      Recall\n",
            "0.6191780821917808            0.6744186046511628          0.6744186046511628           0.6744186046511628\n"
          ]
        }
      ],
      "source": [
        "acc = metrics.accuracy\n",
        "f1 = metrics.fMeasure(1.0)\n",
        "precision = metrics.precision(1.0)\n",
        "recall = metrics.recall(1.0)\n",
        "print(\"                         The Music genre classification result DT\\n\")\n",
        "print(\"Accuracy                         F1-Score                     Precision                      Recall\")\n",
        "print(acc,\"          \",f1,\"        \",precision,\"         \",recall)"
      ]
    },
    {
      "cell_type": "code",
      "execution_count": null,
      "metadata": {
        "colab": {
          "base_uri": "https://localhost:8080/",
          "height": 675
        },
        "id": "1oaAMU_WCYE7",
        "outputId": "2932ad71-ebc3-470d-c4c3-dadb20e59f45"
      },
      "outputs": [
        {
          "data": {
            "image/png": "[encoded data removed]",
            "text/plain": [
              "<Figure size 720x720 with 2 Axes>"
            ]
          },
          "metadata": {},
          "output_type": "display_data"
        }
      ],
      "source": [
        "# Plotting the confusion matrix\n",
        "\n",
        "import matplotlib.pyplot as plt\n",
        "import seaborn as sns\n",
        "\n",
        "plt.figure(figsize=(10,10))\n",
        "x_axis_labels = ['blues','classical','country','disco','hiphop','jazz','metal','pop','reggae','rock'] # labels for x-axis\n",
        "y_axis_labels = ['blues','classical','country','disco','hiphop','jazz','metal','pop','reggae','rock'] # labels for y-axis\n",
        "plot=sns.heatmap(confusion,xticklabels=x_axis_labels, yticklabels=y_axis_labels, annot=True,cmap=\"BuPu\")\n",
        "plot.set_title('Confusion Matrix of Decision Tree',fontsize=18,color='red')\n",
        "plot.set_xlabel('Prediction Level', fontsize=18,color='red')\n",
        "plot.set_ylabel('Actual Level', fontsize=18,color='red')\n",
        "plt.xticks(fontsize=14,rotation=45)\n",
        "plt.yticks(fontsize=14,rotation=45)\n",
        "plt.show()"
      ]
    },
    {
      "cell_type": "markdown",
      "metadata": {
        "id": "nyaadR0DBu0M"
      },
      "source": [
        "**Logistic regression**"
      ]
    },
    {
      "cell_type": "code",
      "execution_count": null,
      "metadata": {
        "id": "2o99iLDQ6n3q"
      },
      "outputs": [],
      "source": [
        "from pyspark.ml.classification import LogisticRegression, OneVsRest\n",
        "from pyspark.ml.evaluation import MulticlassClassificationEvaluator"
      ]
    },
    {
      "cell_type": "code",
      "execution_count": null,
      "metadata": {
        "id": "mww8O5ju6s7j"
      },
      "outputs": [],
      "source": [
        "lr = LogisticRegression(labelCol=\"MusicGenre\", featuresCol=\"scaled_features\",maxIter=200, tol=1E-6, fitIntercept=True)"
      ]
    },
    {
      "cell_type": "code",
      "execution_count": null,
      "metadata": {
        "id": "PlhtcCTq6-JT"
      },
      "outputs": [],
      "source": [
        ""
      ]
    },
    {
      "cell_type": "code",
      "execution_count": null,
      "metadata": {
        "id": "kMSJiUQG-l1W"
      },
      "outputs": [],
      "source": [
        "# train the multiclass model.\n",
        "lrModel = lr.fit(train)"
      ]
    },
    {
      "cell_type": "code",
      "execution_count": null,
      "metadata": {
        "colab": {
          "base_uri": "https://localhost:8080/"
        },
        "id": "wGEyX28Y_1qr",
        "outputId": "3786b0b1-b1d8-4739-f1c5-5ea19ab9533d"
      },
      "outputs": [
        {
          "output_type": "stream",
          "name": "stdout",
          "text": [
            "+----------+--------------------+--------------------+--------------------+----------+\n",
            "|MusicGenre|     scaled_features|       rawPrediction|         probability|prediction|\n",
            "+----------+--------------------+--------------------+--------------------+----------+\n",
            "|       0.0|[2.22840345022533...|[1.56976411185715...|[6.96763014359947...|       1.0|\n",
            "|       0.0|[2.37979629109323...|[5.57697718895692...|[0.03273152375280...|       1.0|\n",
            "|       0.0|[2.40270880631788...|[9.21337227621541...|[0.98946614740803...|       0.0|\n",
            "|       0.0|[2.40339106359911...|[10.2905410305102...|[0.89677791260338...|       0.0|\n",
            "|       0.0|[2.45101949922130...|[14.2048500991496...|[0.99984508641868...|       0.0|\n",
            "+----------+--------------------+--------------------+--------------------+----------+\n",
            "only showing top 5 rows\n",
            "\n"
          ]
        }
      ],
      "source": [
        "\n",
        "lrpredictions = lrModel.transform(test)\n",
        "lrpredictions.show(5)"
      ]
    },
    {
      "cell_type": "code",
      "execution_count": null,
      "metadata": {
        "colab": {
          "base_uri": "https://localhost:8080/"
        },
        "id": "dmIoS8_6ALna",
        "outputId": "922491b8-3125-4454-cf7d-5a9337c2f130"
      },
      "outputs": [
        {
          "output_type": "stream",
          "name": "stdout",
          "text": [
            "Test accuracy of logistic regression classifier is  =  0.7228310502283105\n",
            "Test Error of logistic  regression classifier is  = 0.277169\n"
          ]
        }
      ],
      "source": [
        "from pyspark.ml.evaluation import MulticlassClassificationEvaluator\n",
        "lrevaluator = MulticlassClassificationEvaluator(labelCol='MusicGenre',predictionCol=\"prediction\", metricName='accuracy')\n",
        "accuracy = lrevaluator.evaluate(lrpredictions)\n",
        "print(\"Test accuracy of logistic regression classifier is  = \" , accuracy)\n",
        "print(\"Test Error of logistic  regression classifier is  = %g\" % (1.0 - accuracy))\n",
        "#print(rfModel.toDebugString)"
      ]
    },
    {
      "cell_type": "code",
      "execution_count": null,
      "metadata": {
        "colab": {
          "base_uri": "https://localhost:8080/"
        },
        "id": "qhrnktqeLcFL",
        "outputId": "1927319c-d2ac-4c3c-d12f-a9bb40b6a40f"
      },
      "outputs": [
        {
          "name": "stderr",
          "output_type": "stream",
          "text": [
            "/usr/local/lib/python3.7/dist-packages/pyspark/sql/context.py:127: FutureWarning: Deprecated in 3.0.0. Use SparkSession.builder.getOrCreate() instead.\n",
            "  FutureWarning\n"
          ]
        },
        {
          "name": "stdout",
          "output_type": "stream",
          "text": [
            "Confusion Matrix of Music genre classification \n",
            "\n",
            "[[171.  14.  11.   0.   7.   7.   1.   2.   4.  12.]\n",
            " [  6. 168.   0.   2.   1.   1.   9.   2.   3.   7.]\n",
            " [  7.   0. 169.   0.   0.   4.   0.   0.   8.   1.]\n",
            " [  0.   1.   0. 177.   5.  16.   4.  12.   7.   9.]\n",
            " [  8.   2.   0.  10. 139.   8.   0.  16.  15.   9.]\n",
            " [  2.   1.   5.  14.   5. 157.   2.   6.  24.   5.]\n",
            " [  1.  10.   0.   0.   0.   0. 199.   0.   2.   3.]\n",
            " [ 12.   0.  15.  12.  38.  10.   2. 146.   3.   1.]\n",
            " [ 11.   1.  11.   6.   7.  26.   0.   1. 115.  21.]\n",
            " [ 22.  25.   2.   5.   6.  14.   0.   1.  28. 138.]]\n"
          ]
        }
      ],
      "source": [
        "from pyspark.mllib.evaluation import MulticlassMetrics\n",
        "from pyspark.sql.types import FloatType\n",
        "import pyspark.sql.functions as F\n",
        "\n",
        "preds_and_labels = lrpredictions.select(['prediction','MusicGenre']).withColumn('MusicGenre', F.col('MusicGenre').cast(FloatType())).orderBy('prediction')\n",
        "preds_and_labels1 = preds_and_labels.select(['prediction','MusicGenre'])\n",
        "metrics = MulticlassMetrics(preds_and_labels1.rdd.map(tuple))\n",
        "confusion=metrics.confusionMatrix().toArray()\n",
        "print(\"Confusion Matrix of Music genre classification \\n\")\n",
        "print(confusion)"
      ]
    },
    {
      "cell_type": "code",
      "execution_count": null,
      "metadata": {
        "colab": {
          "base_uri": "https://localhost:8080/"
        },
        "id": "NUZiQ_ir__RV",
        "outputId": "f1b3a665-cf00-496c-c59c-1cde98441708"
      },
      "outputs": [
        {
          "name": "stdout",
          "output_type": "stream",
          "text": [
            "                         The Music genre classification result for LR\n",
            "\n",
            "Accuracy                          F1-Score                     Precision                      Recall\n",
            "0.7276497695852534            0.7980997624703089          0.7567567567567568           0.8442211055276382\n"
          ]
        }
      ],
      "source": [
        "acc = metrics.accuracy\n",
        "f1 = metrics.fMeasure(1.0)\n",
        "precision = metrics.precision(1.0)\n",
        "recall = metrics.recall(1.0)\n",
        "print(\"                         The Music genre classification result for LR\\n\")\n",
        "print(\"Accuracy                          F1-Score                     Precision                      Recall\")\n",
        "print(acc,\"          \",f1,\"        \",precision,\"         \",recall)"
      ]
    },
    {
      "cell_type": "code",
      "execution_count": null,
      "metadata": {
        "colab": {
          "base_uri": "https://localhost:8080/",
          "height": 675
        },
        "id": "qb5hFWh5Ls1N",
        "outputId": "6f90d160-bcb7-4ac6-9692-20637be4f537"
      },
      "outputs": [
        {
          "data": {
            "image/png": "[encoded data removed]",
            "text/plain": [
              "<Figure size 720x720 with 2 Axes>"
            ]
          },
          "metadata": {},
          "output_type": "display_data"
        }
      ],
      "source": [
        "# Plotting the confusion matrix\n",
        "\n",
        "import matplotlib.pyplot as plt\n",
        "import seaborn as sns\n",
        "\n",
        "plt.figure(figsize=(10,10))\n",
        "x_axis_labels = ['blues','classical','country','disco','hiphop','jazz','metal','pop','reggae','rock'] # labels for x-axis\n",
        "y_axis_labels = ['blues','classical','country','disco','hiphop','jazz','metal','pop','reggae','rock'] # labels for y-axis\n",
        "plot=sns.heatmap(confusion,xticklabels=x_axis_labels, yticklabels=y_axis_labels, annot=True,cmap=\"Blues\")\n",
        "plot.set_title('Confusion Matrix of logistics regression',fontsize=18,color='red')\n",
        "plot.set_xlabel('Prediction Level', fontsize=18,color='red')\n",
        "plot.set_ylabel('Actual Level', fontsize=18,color='red')\n",
        "plt.xticks(fontsize=14,rotation=45)\n",
        "plt.yticks(fontsize=14,rotation=45)\n",
        "plt.show()"
      ]
    },
    {
      "cell_type": "code",
      "execution_count": null,
      "metadata": {
        "id": "H7bXqLcgL3NB"
      },
      "outputs": [],
      "source": [
        ""
      ]
    },
    {
      "cell_type": "markdown",
      "metadata": {
        "id": "yBoJtlYWB5bP"
      },
      "source": [
        "**Multilayer Perceptron classifier**"
      ]
    },
    {
      "cell_type": "code",
      "execution_count": null,
      "metadata": {
        "id": "CAouCAn08UUq"
      },
      "outputs": [],
      "source": [
        "from pyspark.ml.classification import MultilayerPerceptronClassifier\n",
        "from pyspark.ml.evaluation import MulticlassClassificationEvaluator"
      ]
    },
    {
      "cell_type": "code",
      "execution_count": null,
      "metadata": {
        "id": "4WYgzOG78Zdt"
      },
      "outputs": [],
      "source": [
        "layers = [17, 9, 8, 10]"
      ]
    },
    {
      "cell_type": "code",
      "execution_count": null,
      "metadata": {
        "id": "psDkFy8j8pqQ"
      },
      "outputs": [],
      "source": [
        "trainer = MultilayerPerceptronClassifier(labelCol=\"MusicGenre\", featuresCol=\"scaled_features\",maxIter=200, layers=layers, blockSize=228, seed=1234)"
      ]
    },
    {
      "cell_type": "code",
      "execution_count": null,
      "metadata": {
        "id": "p69b822C8xDc"
      },
      "outputs": [],
      "source": [
        "# train the model\n",
        "mlmodel = trainer.fit(train)"
      ]
    },
    {
      "cell_type": "code",
      "execution_count": null,
      "metadata": {
        "colab": {
          "base_uri": "https://localhost:8080/"
        },
        "id": "5uNN3Ju7830T",
        "outputId": "133393ae-cefe-434a-a2eb-3b980fdf5372"
      },
      "outputs": [
        {
          "name": "stdout",
          "output_type": "stream",
          "text": [
            "+----------+--------------------+--------------------+--------------------+----------+\n",
            "|MusicGenre|     scaled_features|       rawPrediction|         probability|prediction|\n",
            "+----------+--------------------+--------------------+--------------------+----------+\n",
            "|       0.0|[2.23743476246082...|[0.48663384462670...|[0.03044643766214...|       1.0|\n",
            "|       0.0|[2.28992139486642...|[2.71771526813331...|[0.19464690940195...|       1.0|\n",
            "|       0.0|[2.50557466526844...|[1.29901577190548...|[0.05760797467138...|       1.0|\n",
            "|       0.0|[2.53062282685479...|[3.68703993910290...|[0.26038424811632...|       1.0|\n",
            "|       0.0|[2.54506053383522...|[2.06785687600601...|[0.15448632483275...|       1.0|\n",
            "+----------+--------------------+--------------------+--------------------+----------+\n",
            "only showing top 5 rows\n",
            "\n"
          ]
        }
      ],
      "source": [
        "\n",
        "mlpredictions = mlmodel.transform(test)\n",
        "mlpredictions.show(5)"
      ]
    },
    {
      "cell_type": "code",
      "execution_count": null,
      "metadata": {
        "colab": {
          "base_uri": "https://localhost:8080/"
        },
        "id": "wHqRCmvV9Wa4",
        "outputId": "8ae9e1f7-005a-4070-ed1b-58b8c9252468"
      },
      "outputs": [
        {
          "name": "stdout",
          "output_type": "stream",
          "text": [
            "Test accuracy of Multilayer Perceptron classifier is  =  0.5142857142857142\n",
            "Test Error of Random Forest classifier is  = 0.485714\n"
          ]
        }
      ],
      "source": [
        "from pyspark.ml.evaluation import MulticlassClassificationEvaluator\n",
        "mlevaluator = MulticlassClassificationEvaluator(labelCol='MusicGenre',predictionCol=\"prediction\", metricName='accuracy')\n",
        "accuracy = mlevaluator.evaluate(mlpredictions)\n",
        "print(\"Test accuracy of Multilayer Perceptron classifier is  = \" , accuracy)\n",
        "print(\"Test Error of Random Forest classifier is  = %g\" % (1.0 - accuracy))\n",
        "#print(rfModel.toDebugString)"
      ]
    },
    {
      "cell_type": "code",
      "source": [
        "# install nbconvert\n",
        "!pip3 install nbconvert\n",
        "\n",
        "# convert ipynb to html\n",
        "# file name: \"Music_classification.ipynb\n",
        "!jupyter nbconvert --to html music_multipleclassifier.ipynb"
      ],
      "metadata": {
        "colab": {
          "base_uri": "https://localhost:8080/"
        },
        "id": "cGnIdHRNJiP8",
        "outputId": "f8665d31-cd5d-4967-cfd5-bd71f5a72f1f"
      },
      "execution_count": null,
      "outputs": [
        {
          "output_type": "stream",
          "name": "stdout",
          "text": [
            "Requirement already satisfied: nbconvert in /usr/local/lib/python3.7/dist-packages (5.6.1)\n",
            "Requirement already satisfied: jupyter-core in /usr/local/lib/python3.7/dist-packages (from nbconvert) (4.10.0)\n",
            "Requirement already satisfied: testpath in /usr/local/lib/python3.7/dist-packages (from nbconvert) (0.6.0)\n",
            "Requirement already satisfied: entrypoints>=0.2.2 in /usr/local/lib/python3.7/dist-packages (from nbconvert) (0.4)\n",
            "Requirement already satisfied: pygments in /usr/local/lib/python3.7/dist-packages (from nbconvert) (2.6.1)\n",
            "Requirement already satisfied: pandocfilters>=1.4.1 in /usr/local/lib/python3.7/dist-packages (from nbconvert) (1.5.0)\n",
            "Requirement already satisfied: bleach in /usr/local/lib/python3.7/dist-packages (from nbconvert) (5.0.0)\n",
            "Requirement already satisfied: traitlets>=4.2 in /usr/local/lib/python3.7/dist-packages (from nbconvert) (5.1.1)\n",
            "Requirement already satisfied: defusedxml in /usr/local/lib/python3.7/dist-packages (from nbconvert) (0.7.1)\n",
            "Requirement already satisfied: nbformat>=4.4 in /usr/local/lib/python3.7/dist-packages (from nbconvert) (5.3.0)\n",
            "Requirement already satisfied: mistune<2,>=0.8.1 in /usr/local/lib/python3.7/dist-packages (from nbconvert) (0.8.4)\n",
            "Requirement already satisfied: jinja2>=2.4 in /usr/local/lib/python3.7/dist-packages (from nbconvert) (2.11.3)\n",
            "Requirement already satisfied: MarkupSafe>=0.23 in /usr/local/lib/python3.7/dist-packages (from jinja2>=2.4->nbconvert) (2.0.1)\n",
            "Requirement already satisfied: fastjsonschema in /usr/local/lib/python3.7/dist-packages (from nbformat>=4.4->nbconvert) (2.15.3)\n",
            "Requirement already satisfied: jsonschema>=2.6 in /usr/local/lib/python3.7/dist-packages (from nbformat>=4.4->nbconvert) (4.3.3)\n",
            "Requirement already satisfied: importlib-resources>=1.4.0 in /usr/local/lib/python3.7/dist-packages (from jsonschema>=2.6->nbformat>=4.4->nbconvert) (5.7.1)\n",
            "Requirement already satisfied: importlib-metadata in /usr/local/lib/python3.7/dist-packages (from jsonschema>=2.6->nbformat>=4.4->nbconvert) (4.11.3)\n",
            "Requirement already satisfied: pyrsistent!=0.17.0,!=0.17.1,!=0.17.2,>=0.14.0 in /usr/local/lib/python3.7/dist-packages (from jsonschema>=2.6->nbformat>=4.4->nbconvert) (0.18.1)\n",
            "Requirement already satisfied: attrs>=17.4.0 in /usr/local/lib/python3.7/dist-packages (from jsonschema>=2.6->nbformat>=4.4->nbconvert) (21.4.0)\n",
            "Requirement already satisfied: typing-extensions in /usr/local/lib/python3.7/dist-packages (from jsonschema>=2.6->nbformat>=4.4->nbconvert) (4.2.0)\n",
            "Requirement already satisfied: zipp>=3.1.0 in /usr/local/lib/python3.7/dist-packages (from importlib-resources>=1.4.0->jsonschema>=2.6->nbformat>=4.4->nbconvert) (3.8.0)\n",
            "Requirement already satisfied: six>=1.9.0 in /usr/local/lib/python3.7/dist-packages (from bleach->nbconvert) (1.15.0)\n",
            "Requirement already satisfied: webencodings in /usr/local/lib/python3.7/dist-packages (from bleach->nbconvert) (0.5.1)\n",
            "[NbConvertApp] Converting notebook music_multipleclassifier.ipynb to html\n",
            "[NbConvertApp] Writing 607250 bytes to music_multipleclassifier.html\n"
          ]
        }
      ]
    }
  ],
  "metadata": {
    "colab": {
      "name": "music_multipleclassifier.ipynb",
      "provenance": []
    },
    "kernelspec": {
      "display_name": "Python 3",
      "name": "python3"
    },
    "language_info": {
      "name": "python"
    }
  },
  "nbformat": 4,
  "nbformat_minor": 0
}